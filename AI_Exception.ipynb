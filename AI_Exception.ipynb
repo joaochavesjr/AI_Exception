{
  "nbformat": 4,
  "nbformat_minor": 0,
  "metadata": {
    "colab": {
      "provenance": [],
      "authorship_tag": "ABX9TyO4exfC8ilg47cekl3i3qIe",
      "include_colab_link": true
    },
    "kernelspec": {
      "name": "python3",
      "display_name": "Python 3"
    },
    "language_info": {
      "name": "python"
    }
  },
  "cells": [
    {
      "cell_type": "markdown",
      "metadata": {
        "id": "view-in-github",
        "colab_type": "text"
      },
      "source": [
        "<a href=\"https://colab.research.google.com/github/joaochavesjr/AI_Exception/blob/main/AI_Exception.ipynb\" target=\"_parent\"><img src=\"https://colab.research.google.com/assets/colab-badge.svg\" alt=\"Open In Colab\"/></a>"
      ]
    },
    {
      "cell_type": "code",
      "execution_count": 1,
      "metadata": {
        "id": "Kym0eyBizJdp"
      },
      "outputs": [],
      "source": [
        "!pip install -q -U google-generativeai"
      ]
    },
    {
      "cell_type": "code",
      "source": [
        "import google.generativeai as genai\n",
        "from google.colab import userdata\n",
        "\n",
        "api_key = userdata.get('API_KEY')\n",
        "genai.configure(api_key=api_key)\n"
      ],
      "metadata": {
        "id": "3P1AE6ixzTIR"
      },
      "execution_count": 2,
      "outputs": []
    },
    {
      "cell_type": "code",
      "source": [
        "generation_config = {\n",
        "    \"candidate_count\": 1,\n",
        "    \"temperature\": 0.5\n",
        "}\n",
        "\n",
        "safety_settings = {\n",
        "    \"HARASSMENT\": \"BLOCK_NONE\",\n",
        "    \"HATE\": \"BLOCK_NONE\",\n",
        "    \"SEXUAL\": \"BLOCK_NONE\",\n",
        "    \"DANGEROUS\": \"BLOCK_NONE\",\n",
        "}\n",
        "\n",
        "model = genai.GenerativeModel(model_name=\"gemini-1.0-pro\",\n",
        "                              generation_config=generation_config,\n",
        "                              safety_settings=safety_settings)"
      ],
      "metadata": {
        "id": "9Jcl7EBfzZPP"
      },
      "execution_count": 4,
      "outputs": []
    },
    {
      "cell_type": "code",
      "source": [
        "def get_except_details(msg=''):\n",
        "  response = model.generate_content(f\"Explique a exeção em python: {msg}\")\n",
        "  return response.text"
      ],
      "metadata": {
        "id": "NLrxBLES1VG8"
      },
      "execution_count": 6,
      "outputs": []
    },
    {
      "cell_type": "code",
      "source": [
        "try:\n",
        "  print(1/0)\n",
        "except Exception as error_msg:\n",
        "  print(get_except_details(error_msg))"
      ],
      "metadata": {
        "colab": {
          "base_uri": "https://localhost:8080/",
          "height": 800
        },
        "id": "pkOTyLvm2DHw",
        "outputId": "cb82a85d-38e2-4688-c65a-f817aa6241f0"
      },
      "execution_count": 7,
      "outputs": [
        {
          "output_type": "stream",
          "name": "stdout",
          "text": [
            "**Descrição:**\n",
            "\n",
            "A exceção `division by zero` ocorre quando uma operação de divisão é tentada com um denominador igual a zero. Em Python, esta exceção é representada pela classe `ZeroDivisionError`.\n",
            "\n",
            "**Causa:**\n",
            "\n",
            "A divisão por zero é uma operação matemática indefinida. Quando o denominador é zero, o resultado da divisão não pode ser determinado. Isso ocorre porque dividir um número por zero é equivalente a perguntar \"quantas vezes zero cabe em um número?\".\n",
            "\n",
            "**Como lidar com a exceção:**\n",
            "\n",
            "Para lidar com a exceção `division by zero`, você pode usar o bloco `try-except` do Python:\n",
            "\n",
            "```python\n",
            "try:\n",
            "    resultado = numerador / denominador\n",
            "except ZeroDivisionError:\n",
            "    print(\"Não é possível dividir por zero.\")\n",
            "```\n",
            "\n",
            "No bloco `try`, a operação de divisão é executada. Se o denominador for diferente de zero, o resultado será armazenado na variável `resultado`. Se o denominador for zero, a exceção `ZeroDivisionError` será lançada e o bloco `except` será executado.\n",
            "\n",
            "**Exemplo:**\n",
            "\n",
            "```python\n",
            "numerador = 10\n",
            "denominador = 2\n",
            "\n",
            "try:\n",
            "    resultado = numerador / denominador\n",
            "    print(f\"O resultado é: {resultado}\")\n",
            "except ZeroDivisionError:\n",
            "    print(\"Não é possível dividir por zero.\")\n",
            "```\n",
            "\n",
            "**Saída:**\n",
            "\n",
            "```\n",
            "O resultado é: 5.0\n",
            "```\n",
            "\n",
            "**Observações:**\n",
            "\n",
            "* É importante observar que a exceção `division by zero` não é lançada quando o numerador é zero. Somente quando o denominador é zero.\n",
            "* Você também pode usar o operador de divisão de piso (`//`) para evitar a exceção `division by zero`. O operador de divisão de piso retorna o resultado da divisão truncada para o inteiro mais próximo.\n"
          ]
        }
      ]
    },
    {
      "cell_type": "code",
      "source": [
        "try:\n",
        "  mylist = [1, 2, 3, 4, 5]\n",
        "  print(mylist[7])\n",
        "except Exception as error_msg:\n",
        "  print(get_except_details(error_msg))\n"
      ],
      "metadata": {
        "colab": {
          "base_uri": "https://localhost:8080/",
          "height": 748
        },
        "id": "b2prug7729ah",
        "outputId": "2184e27b-a3d9-4e72-e06b-86347059ecb7"
      },
      "execution_count": 8,
      "outputs": [
        {
          "output_type": "stream",
          "name": "stdout",
          "text": [
            "**Descrição:**\n",
            "\n",
            "A exceção `IndexError: list index out of range` ocorre quando você tenta acessar um elemento de uma lista usando um índice que está fora dos limites válidos da lista.\n",
            "\n",
            "**Causas:**\n",
            "\n",
            "* Tentando acessar um elemento que não existe na lista (índice negativo ou maior que o tamanho da lista).\n",
            "* Tentando acessar um elemento de uma lista vazia.\n",
            "\n",
            "**Exemplo:**\n",
            "\n",
            "```python\n",
            "minha_lista = [1, 2, 3]\n",
            "\n",
            "# Tentando acessar o quarto elemento (índice 3)\n",
            "print(minha_lista[3])  # Gera IndexError: list index out of range\n",
            "```\n",
            "\n",
            "**Como resolver:**\n",
            "\n",
            "Para resolver esse erro, verifique se o índice que você está usando está dentro dos limites válidos da lista. Você pode usar a função `len()` para obter o tamanho da lista e garantir que o índice esteja entre 0 e `len(lista) - 1`.\n",
            "\n",
            "**Exemplo:**\n",
            "\n",
            "```python\n",
            "minha_lista = [1, 2, 3]\n",
            "\n",
            "# Verificando se o índice está dentro dos limites\n",
            "if 0 <= indice < len(minha_lista):\n",
            "    print(minha_lista[indice])\n",
            "else:\n",
            "    print(\"Índice fora dos limites da lista\")\n",
            "```\n",
            "\n",
            "**Prevenção:**\n",
            "\n",
            "Para evitar esse erro, siga estas práticas:\n",
            "\n",
            "* Sempre verifique se o índice está dentro dos limites da lista antes de acessá-la.\n",
            "* Use o método `in` para verificar se um índice existe na lista antes de acessá-lo.\n",
            "* Use o método `index()` para obter o índice de um elemento específico na lista.\n"
          ]
        }
      ]
    }
  ]
}